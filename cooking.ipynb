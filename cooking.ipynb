import math
import json
import csv

from IPython import display
from matplotlib import cm
from matplotlib import gridspec
from matplotlib import pyplot as plt
import numpy as np
import pandas as pd
from pandas.io.json import json_normalize 
from sklearn import metrics
import tensorflow as tf
from tensorflow.python.data import Dataset

tf.logging.set_verbosity(tf.logging.ERROR)


cooking_dataframe = pd.read_json('https://raw.githubusercontent.com/erichayth/whats-cooking/master/train.json')
 
cooking_dataframe =cooking_dataframe.reindex(
    np.random.permutation(cooking_dataframe.index))

cooking_dataframe.head(3)

def preprocess_features(cooking_dataframe):
  """Prepares input features from Cooking training data set.

  Args:
    cooking_dataframe: A Pandas DataFrame expected to contain data
      from the California housing data set.
  Returns:
    A DataFrame that contains the features to be used for the model, including
    synthetic features.
  """
  selected_features = cooking_dataframe[
    ["cuisine",
     "id",
     "ingredients"]]
